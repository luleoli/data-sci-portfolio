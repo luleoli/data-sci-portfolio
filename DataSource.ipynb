{
 "cells": [
  {
   "cell_type": "markdown",
   "id": "974ed23e",
   "metadata": {
    "vscode": {
     "languageId": "plaintext"
    }
   },
   "source": [
    "### Databases "
   ]
  },
  {
   "cell_type": "markdown",
   "id": "9d9d9ba8",
   "metadata": {
    "vscode": {
     "languageId": "plaintext"
    }
   },
   "source": [
    "### Binary Classification with a Bank Churn Dataset  \n",
    "Playground Series - Season 4, Episode 1\n",
    "\n",
    "https://www.kaggle.com/competitions/playground-series-s4e1/data"
   ]
  },
  {
   "cell_type": "markdown",
   "id": "c06e79c0",
   "metadata": {},
   "source": [
    "### Multi-Class Prediction of Obesity Risk\n",
    "Playground Series - Season 4, Episode 2\n",
    "\n",
    "https://www.kaggle.com/competitions/playground-series-s4e2/data"
   ]
  },
  {
   "cell_type": "markdown",
   "id": "6c9d16c2",
   "metadata": {
    "vscode": {
     "languageId": "plaintext"
    }
   },
   "source": [
    "### Steel Plate Defect Prediction\n",
    "\n",
    "Playground Series - Season 4, Episode 3\n",
    "\n",
    "https://www.kaggle.com/competitions/playground-series-s4e3"
   ]
  },
  {
   "cell_type": "markdown",
   "id": "18f5a61e",
   "metadata": {},
   "source": [
    "### Regression with an Abalone Dataset\n",
    "\n",
    "Playground Series - Season 4, Episode 4\n",
    "\n",
    "https://www.kaggle.com/competitions/playground-series-s4e4/data"
   ]
  },
  {
   "cell_type": "markdown",
   "id": "6245e5aa",
   "metadata": {},
   "source": [
    "### Regression with a Flood Prediction Dataset\n",
    "\n",
    "Playground Series - Season 4, Episode 5\n",
    "\n",
    "https://www.kaggle.com/competitions/playground-series-s4e5"
   ]
  }
 ],
 "metadata": {
  "language_info": {
   "name": "python"
  }
 },
 "nbformat": 4,
 "nbformat_minor": 5
}
